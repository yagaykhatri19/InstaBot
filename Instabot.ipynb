{
 "cells": [
  {
   "cell_type": "markdown",
   "id": "27a8fa1f",
   "metadata": {},
   "source": [
    "# Instabot\n",
    "Your friend has opened a new Food Blogging handle on Instagram and wants to get famous. He wants to follow a lot of people so that he can get noticed quickly but it is a tedious task so he asks you to help him. As you have just learned automation using Selenium, you decided to help him by creating an Instagram Bot."
   ]
  },
  {
   "cell_type": "markdown",
   "id": "5b3b2a83",
   "metadata": {},
   "source": [
    "### Importing libraries and starting web driver session"
   ]
  },
  {
   "cell_type": "code",
   "execution_count": 1,
   "id": "359ef856",
   "metadata": {},
   "outputs": [],
   "source": [
    "import selenium\n",
    "from selenium import webdriver\n",
    "from selenium.webdriver.chrome.service import Service\n",
    "from selenium.webdriver.common.by import By\n",
    "from selenium.webdriver.support.ui import WebDriverWait\n",
    "from selenium.webdriver.support import expected_conditions as EC\n",
    "import time\n",
    "from datetime import date, timedelta\n",
    "from bs4 import BeautifulSoup\n",
    "from collections import OrderedDict\n",
    "import numpy as np\n",
    "import pandas as pd\n",
    "import matplotlib.pyplot as plt\n",
    "%matplotlib inline"
   ]
  },
  {
   "cell_type": "code",
   "execution_count": 16,
   "id": "d875c621",
   "metadata": {},
   "outputs": [],
   "source": [
    "driver = webdriver.Chrome(service = Service(executable_path = 'chromedriver-mac-x64/chromedriver'))\n",
    "driver.get('https://www.instagram.com/')\n",
    "driver.maximize_window()"
   ]
  },
  {
   "cell_type": "code",
   "execution_count": 17,
   "id": "0d2ab242",
   "metadata": {},
   "outputs": [],
   "source": [
    "wait = WebDriverWait(driver, 10)"
   ]
  },
  {
   "cell_type": "markdown",
   "id": "e7e67f89",
   "metadata": {},
   "source": [
    "### Login to your Instagram Handle\n",
    "Login to your Instagram Handle"
   ]
  },
  {
   "cell_type": "code",
   "execution_count": 18,
   "id": "30b537cf",
   "metadata": {},
   "outputs": [],
   "source": [
    "def login(username, password):\n",
    "    try:\n",
    "        wait.until(EC.presence_of_element_located((By.NAME, 'username')))\n",
    "        username_textbox = driver.find_element(By.NAME, 'username')\n",
    "        username_textbox.send_keys(username)\n",
    "        password_textbox = driver.find_element(By.NAME, 'password')\n",
    "        password_textbox.send_keys(password)\n",
    "        submit_btn = driver.find_element(By.CLASS_NAME, '_acas')\n",
    "        submit_btn.click()\n",
    "        wait.until(EC.presence_of_element_located((By.CLASS_NAME, '_ac8f')))\n",
    "        save_login_info = driver.find_element(By.CLASS_NAME, '_ac8f')\n",
    "        if save_login_info.is_enabled:\n",
    "            save_login_info.click()\n",
    "        wait.until(EC.presence_of_element_located((By.CLASS_NAME, '_a9_1')))\n",
    "        alert_not_now = driver.find_element(By.CLASS_NAME, '_a9_1')\n",
    "        if alert_not_now.is_enabled:\n",
    "            alert_not_now.click()\n",
    "    \n",
    "    except Exception as e:\n",
    "        print(e)\n",
    "    \n",
    "email = \"sample@example.com\"\n",
    "username = \"sample\"\n",
    "password = \"sample\"\n",
    "login(username, password)"
   ]
  },
  {
   "cell_type": "markdown",
   "id": "bc3ce1f7",
   "metadata": {},
   "source": [
    "<hr>"
   ]
  },
  {
   "cell_type": "code",
   "execution_count": 19,
   "id": "51561815",
   "metadata": {},
   "outputs": [],
   "source": [
    "#This function helps us to locate the search button and textbox\n",
    "def search_and_find(keyword):\n",
    "    wait.until(EC.presence_of_element_located((By.XPATH, '//div[@class = \"x1iyjqo2 xh8yej3\"]/div[2]/span')))\n",
    "    search_btn = driver.find_element(By.XPATH, '//div[@class = \"x1iyjqo2 xh8yej3\"]/div[2]/span')\n",
    "    search_btn.click()\n",
    "    wait.until(EC.presence_of_element_located((By.XPATH, '//div[@class = \"xjoudau x6s0dn4 x78zum5 xdt5ytf x1c4vz4f xs83m0k xrf2nzk x1n2onr6 xh8yej3 x1hq5gj4\"]/input')))\n",
    "    search_textbox = driver.find_element(By.XPATH, '//div[@class = \"xjoudau x6s0dn4 x78zum5 xdt5ytf x1c4vz4f xs83m0k xrf2nzk x1n2onr6 xh8yej3 x1hq5gj4\"]/input')\n",
    "    search_textbox.clear()\n",
    "    search_textbox.send_keys(keyword)"
   ]
  },
  {
   "cell_type": "markdown",
   "id": "bede30ae",
   "metadata": {},
   "source": [
    "### Type for “food” in search bar and print all the names of the Instagram Handles that are displayed in list after typing “food”\n",
    "Avoid Hashtags"
   ]
  },
  {
   "cell_type": "code",
   "execution_count": 6,
   "id": "4ffc80bb",
   "metadata": {},
   "outputs": [],
   "source": [
    "#searching a keyword\n",
    "def keyword_search(keyword):\n",
    "    try:\n",
    "        search_and_find(keyword)\n",
    "        time.sleep(3)\n",
    "        wait = WebDriverWait(driver, 20)\n",
    "        wait.until(EC.presence_of_element_located((By.XPATH, '//span[@class = \"x1lliihq x1plvlek xryxfnj x1n2onr6 x193iq5w xeuugli x1fj9vlw x13faqbe x1vvkbs x1s928wv xhkezso x1gmr53x x1cpjm7i x1fgarty x1943h6x x1i0vuye xvs91rp x1s688f x5n08af x10wh9bi x1wdrske x8viiok x18hxmgj\"]')))\n",
    "        x = driver.find_elements(By.XPATH, '//span[@class = \"x1lliihq x1plvlek xryxfnj x1n2onr6 x193iq5w xeuugli x1fj9vlw x13faqbe x1vvkbs x1s928wv xhkezso x1gmr53x x1cpjm7i x1fgarty x1943h6x x1i0vuye xvs91rp x1s688f x5n08af x10wh9bi x1wdrske x8viiok x18hxmgj\"]')\n",
    "        names = []\n",
    "        for i in x:\n",
    "            if (i.text[0]!='#'):\n",
    "                names.append(i.text)\n",
    "        return names\n",
    "        \n",
    "    except Exception as e:\n",
    "        print(e)"
   ]
  },
  {
   "cell_type": "code",
   "execution_count": 25,
   "id": "a82018ae",
   "metadata": {},
   "outputs": [
    {
     "name": "stdout",
     "output_type": "stream",
     "text": [
      "foodtalkindia\n",
      "food_lovers6103\n",
      "delhi_streets_food\n",
      "foodbyswag\n",
      "food.darzee\n",
      "foodpharmer\n",
      "food\n",
      "mumbaifoodie\n",
      "yourfoodlab\n",
      "worldfoodprogramme\n",
      "_food_wave_\n",
      "pcr_food\n",
      "foodporn\n",
      "a_foodie_on_the_prowl\n",
      "foodrooaster\n",
      "thatlucknowfoodie\n",
      "bongeats\n",
      "adeelchaudry1\n",
      "_banarasi_food_blogger_\n",
      "food__diaries____\n",
      "food_for_foodies_from_up\n",
      "foodnetwork\n",
      "_food_grill\n",
      "foodiekashif\n",
      "lucknow_foodie\n",
      "thefeedfeed.recipevideos\n",
      "food__wonders\n",
      "foody_mayur09\n",
      "allahabadifoodie\n",
      "food_flavours94\n",
      "food__isle\n",
      "foodiechina888\n",
      "_thefoodiebee\n",
      "food_adda247\n",
      "foodie_okhla\n",
      "food52\n",
      "lucknowibhukkad\n",
      "_foodieee_pandaaa_\n",
      "lucknow_food_lover\n",
      "food_ie_station\n",
      "Horn Ok Please - Food Truck Festival\n",
      "foodonreel\n",
      "lkofoodie\n",
      "foodo_therapy\n",
      "official_chatpata_food\n",
      "food_lovers.m\n",
      "fortunefoodcart\n",
      "foodhallindia\n",
      "Food Please\n",
      "Food Festival Jln Stadium.\n",
      "meghnasfoodmagic\n",
      "ashish_dixit_28\n"
     ]
    }
   ],
   "source": [
    "handles = keyword_search(\"food\")\n",
    "for i in handles:\n",
    "    print(i)"
   ]
  },
  {
   "cell_type": "markdown",
   "id": "a10ef9f9",
   "metadata": {},
   "source": [
    "### Searching and Opening a profile\n",
    "Open profile of “So Delhi” "
   ]
  },
  {
   "cell_type": "code",
   "execution_count": 13,
   "id": "b538b6d1",
   "metadata": {},
   "outputs": [],
   "source": [
    "#searching and opening a profile\n",
    "def search_and_open(profile):\n",
    "    try:\n",
    "        driver.refresh()\n",
    "        search_and_find(profile)\n",
    "        time.sleep(2)\n",
    "        wait = WebDriverWait(driver, 20)\n",
    "        wait.until(EC.presence_of_element_located(((By.XPATH, '//div[contains(@class, \"xocp1fn\")]/a'))))\n",
    "        driver.find_element(By.XPATH, '//div[contains(@class, \"xocp1fn\")]/a').click()\n",
    "        \n",
    "    except Exception as e:\n",
    "        print(e)"
   ]
  },
  {
   "cell_type": "code",
   "execution_count": 27,
   "id": "7597541f",
   "metadata": {},
   "outputs": [],
   "source": [
    "search_and_open(\"So Delhi\")"
   ]
  },
  {
   "cell_type": "markdown",
   "id": "e0a7c8ef",
   "metadata": {},
   "source": [
    "### Follow/Unfollow given handle\n",
    "Open the Instagram Handle of “So Delhi”\n",
    "Start following it. Print a message if you are already following\n",
    "After following, unfollow the instagram handle. Print a message if you have already unfollowed."
   ]
  },
  {
   "cell_type": "code",
   "execution_count": 28,
   "id": "e0a4426e",
   "metadata": {},
   "outputs": [],
   "source": [
    "def follow(profile):\n",
    "    search_and_open(profile)\n",
    "    time.sleep(5)\n",
    "    try:\n",
    "        follow_btn = driver.find_element(By.CLASS_NAME, '_acap')\n",
    "        if follow_btn.text == \"Following\":\n",
    "            print(\"Already followed!\")\n",
    "        else:\n",
    "            follow_btn.click()\n",
    "    \n",
    "    except Exception as e:\n",
    "        print(e)\n",
    "    \n",
    "def unfollow(profile):\n",
    "    search_and_open(profile)\n",
    "    time.sleep(5)\n",
    "    try:\n",
    "        follow_btn = driver.find_element(By.CLASS_NAME, '_acap')\n",
    "        if follow_btn.text == \"Follow\":\n",
    "            print(\"Already unfollowed!\")\n",
    "        else:\n",
    "            follow_btn.click()\n",
    "            time.sleep(2)\n",
    "            wait = WebDriverWait(driver, 20)\n",
    "            wait.until(EC.presence_of_element_located((By.XPATH, '//div[contains(@class, \"xw2csxc\")]/div[8]')))\n",
    "            unfollow = driver.find_element(By.XPATH, '//div[contains(@class, \"xw2csxc\")]/div[8]').click()\n",
    "            \n",
    "    except Exception as e:\n",
    "        print(e)"
   ]
  },
  {
   "cell_type": "code",
   "execution_count": 31,
   "id": "859bedb6",
   "metadata": {},
   "outputs": [
    {
     "name": "stdout",
     "output_type": "stream",
     "text": [
      "Already followed!\n"
     ]
    }
   ],
   "source": [
    "follow('sodelhi')"
   ]
  },
  {
   "cell_type": "code",
   "execution_count": 32,
   "id": "566d8ee6",
   "metadata": {},
   "outputs": [],
   "source": [
    "#lets wait for few seconds before we follow the given handle"
   ]
  },
  {
   "cell_type": "code",
   "execution_count": 33,
   "id": "564946d2",
   "metadata": {},
   "outputs": [],
   "source": [
    "unfollow('sodelhi')"
   ]
  },
  {
   "cell_type": "markdown",
   "id": "155aba85",
   "metadata": {},
   "source": [
    "### Like/Unlike posts\n",
    "Liking the top 30 posts of the ‘dilsefoodie'. Print message if you have already liked it.\n",
    "Unliking the top 30 posts of the ‘dilsefoodie’. Print message if you have already unliked it."
   ]
  },
  {
   "cell_type": "code",
   "execution_count": 34,
   "id": "68d1666e",
   "metadata": {},
   "outputs": [],
   "source": [
    "def action():\n",
    "    return driver.find_element(By.CLASS_NAME, '_aamw')"
   ]
  },
  {
   "cell_type": "code",
   "execution_count": 35,
   "id": "f50e62d6",
   "metadata": {},
   "outputs": [],
   "source": [
    "def like(profile):\n",
    "    try:        \n",
    "        search_and_open(profile)\n",
    "        time.sleep(3)\n",
    "        driver.execute_script('window.scrollBy(0, 6000);')\n",
    "        time.sleep(3)\n",
    "        driver.execute_script('window.scrollBy(0, 6000);')\n",
    "        time.sleep(3)\n",
    "        wait = WebDriverWait(driver, 20)\n",
    "        posts = driver.find_elements(By.CLASS_NAME, '_aagu')\n",
    "        #print(len(posts))\n",
    "        for i in range(30):\n",
    "            posts[i].click()\n",
    "            time.sleep(2)\n",
    "            like_btn = action()\n",
    "            bs = BeautifulSoup(like_btn.get_attribute('innerHTML'), 'html.parser')\n",
    "            if (bs.svg['aria-label']=='Like'):\n",
    "                like_btn.click()\n",
    "            else:\n",
    "                print('Already Liked Post: ', i+1)\n",
    "            time.sleep(2)\n",
    "            driver.find_element(By.XPATH, '//div[@class = \"x160vmok x10l6tqk x1eu8d0j x1vjfegm\"]').click()\n",
    "            time.sleep(2)\n",
    "            \n",
    "        \n",
    "    except Exception as e:\n",
    "        print(e)\n",
    "        \n",
    "def unlike(profile):\n",
    "    try:        \n",
    "        search_and_open(profile)\n",
    "        time.sleep(3)\n",
    "        driver.execute_script('window.scrollBy(0, 6000);')\n",
    "        time.sleep(3)\n",
    "        driver.execute_script('window.scrollBy(0, 6000);')\n",
    "        time.sleep(3)\n",
    "        wait = WebDriverWait(driver, 20)\n",
    "        posts = driver.find_elements(By.CLASS_NAME, '_aagu')\n",
    "        #print(len(posts))\n",
    "        for i in range(30):\n",
    "            posts[i].click()\n",
    "            time.sleep(2)\n",
    "            like_btn = action()\n",
    "            bs = BeautifulSoup(like_btn.get_attribute('innerHTML'), 'html.parser')\n",
    "            if (bs.svg['aria-label']=='Unlike'):\n",
    "                like_btn.click()\n",
    "            else:\n",
    "                print('Already Unliked Post: ', i+1)\n",
    "            time.sleep(2)\n",
    "            driver.find_element(By.XPATH, '//div[@class = \"x160vmok x10l6tqk x1eu8d0j x1vjfegm\"]').click()\n",
    "            time.sleep(2)\n",
    "            \n",
    "        \n",
    "    except Exception as e:\n",
    "        print(e)"
   ]
  },
  {
   "cell_type": "code",
   "execution_count": null,
   "id": "4625976b",
   "metadata": {},
   "outputs": [],
   "source": [
    "like(\"dilsefoodie\")\n",
    "unlike(\"dilsefoodie\")"
   ]
  },
  {
   "cell_type": "markdown",
   "id": "8099cb83",
   "metadata": {},
   "source": [
    "### Extract list of followers\n",
    "1. Extract the usernames of the first 500 followers of ‘foodtalkindia’ and ‘sodelhi’.\n",
    "2. Now print all the followers of “foodtalkindia” that you are following but those who don’t follow you."
   ]
  },
  {
   "cell_type": "code",
   "execution_count": 36,
   "id": "a026ba61",
   "metadata": {},
   "outputs": [],
   "source": [
    "def extract_followers(profile, f=0):\n",
    "    try:\n",
    "        search_and_open(profile)\n",
    "        time.sleep(3)\n",
    "        if (f==0):\n",
    "            driver.find_element(By.XPATH, '//ul[@class = \"x78zum5 x1q0g3np xieb3on\"]/li[2]').click()\n",
    "        else:\n",
    "            driver.find_element(By.XPATH, '//ul[@class = \"x78zum5 x1q0g3np xieb3on\"]/li[3]').click()\n",
    "        time.sleep(3)\n",
    "        wait = WebDriverWait(driver, 20)\n",
    "        followers = []\n",
    "        frame = wait.until(EC.element_to_be_clickable((By.XPATH, '//div[contains(@class,\"_aano\")]')))\n",
    "        current_height = driver.execute_script('return arguments[0].scrollHeight;', frame)\n",
    "        for i in range(45):\n",
    "            driver.execute_script('arguments[0].scrollTop = arguments[0].scrollTop + arguments[0].scrollHeight;', frame)\n",
    "            time.sleep(1)\n",
    "            new_height = driver.execute_script('return arguments[0].scrollHeight;', frame)\n",
    "            #print(current_height, new_height)\n",
    "            if new_height == current_height:\n",
    "                break\n",
    "            current_height = new_height\n",
    "            time.sleep(1)\n",
    "        followers = driver.find_elements(By.CLASS_NAME, '_aad7')\n",
    "        return followers\n",
    "        \n",
    "    except Exception as e:\n",
    "        print(e)"
   ]
  },
  {
   "cell_type": "code",
   "execution_count": 37,
   "id": "91ce6f29",
   "metadata": {},
   "outputs": [
    {
     "name": "stdout",
     "output_type": "stream",
     "text": [
      "zaid_alig.07\n",
      "xrayyaxx\n",
      "paniigrahii\n",
      "dr.mayank_rana\n",
      "bl.iss3352\n",
      "aditya_singh1109\n",
      "gautham_r_gupta\n",
      "vaishnavi.tiwari.96343\n",
      "harshwal07_05\n",
      "_96passi\n",
      "alma_amorosa_\n",
      "i_m_saumya15\n",
      "sabharwal.shivani\n",
      "navya_ayy\n",
      "aashna_midha\n",
      "acs_ankitamehrotra\n",
      "delhi_93_wale\n",
      "didsomeonesaypriya\n",
      "g_o__k___u__l\n",
      "lalitmehendiratta\n",
      "monikasharma__2509\n",
      "shilpagupta9818\n",
      "shekhu_bharati\n",
      "cristiano_arnav\n",
      "anshiii_rastogi_\n",
      "kunalsharma0205\n",
      "_.jazaaaaa\n",
      "__bhavana_gupta\n",
      "urs_dpk_06\n",
      "saumyaaaaa_x\n",
      "iampriya1218\n",
      "s.h.r.u.t.i_tomar\n",
      "_skin.it.real_\n",
      "belikehumans_\n",
      "asmitamehrotra\n",
      "kartik_diddee\n",
      "aditya._lal\n",
      "travelllwithbunny\n",
      "nikhilawasthi15\n",
      "rohitverma9787\n",
      "ayushijaiswal1999\n",
      "emilmathewo\n",
      "usmannazier\n",
      "bhagirathidiwaker\n",
      "chandela9999\n",
      "akash_chaprana025\n",
      "sweetylakshmanan\n",
      "foodmassi\n",
      "talwar_preethinayak\n",
      "deepakmishra3101\n",
      "mn.guptaa_03\n",
      "rao_harsh_098\n",
      "_rakesh.nayan\n",
      "nishant_prashar\n",
      "rowdyrajkumaarr\n",
      "jyoti_tanchui\n",
      "rahejaravinderkumar\n",
      "ayeshapvt01._\n",
      "amit041995\n",
      "imdeeplove\n",
      "kamli.sam\n",
      "neeru_bala_kamboj_dhanju_\n",
      "sanya___2018\n",
      "devika_sharma.71\n",
      "taiba_rehman_\n",
      "ig_prakharmishra\n",
      "priyaankakhanna\n",
      "radzyy_19\n",
      "debo.1094\n",
      "sanjayyshrma\n",
      "kanyan.sumit\n",
      "shivamgiri843\n",
      "justtayyabkhan\n",
      "chakhna_chakachak\n",
      "marie_theresesharma\n",
      "suhaniisood\n",
      "dustinsmetaverse\n",
      "saksham_sharma_199900\n",
      "parvkaushik\n",
      "tanya_yadav43\n",
      "usha.sunshine\n",
      "__amannnn___\n",
      "monu_meena14647\n",
      "khushi._0518\n",
      "donerlisasmile\n",
      "_hrithik_69\n",
      "sumitandrews\n",
      "yashbhutaniii\n",
      "pranjal__.426\n",
      "ikdeep13\n",
      "hellyeah_travells\n",
      "rupali_66\n",
      "shubhaya\n",
      "tavvvleeenn\n",
      "rashmi_batheja\n",
      "prishamendiratta\n",
      "saikiranmantina\n",
      "vibhootisharma_\n",
      "kushvarshneykaka\n",
      "pvt.guptaji\n",
      "guywthyellowmug\n",
      "salanke_bheem\n",
      "niksart66\n",
      "shrinithiii\n",
      "iammadhugupta218\n",
      "indersaini0012\n",
      "baby_of_my_babess\n",
      "imvipulpatel\n",
      "aditi_khanna_hk\n",
      "jillgada9720\n",
      "rajupt_soun_u.k_05\n",
      "james240168\n",
      "shubhya.chawla\n",
      "hamzasiraj95\n",
      "bhoo.miish\n",
      "shayoooob\n",
      "khanbasittt\n",
      "shreyayyxo\n",
      "thinkerguy16\n",
      "roma___verma\n",
      "akshra_sharma\n",
      "guptaprakhar09\n",
      "avsingh77\n",
      "preeti.chandani\n",
      "shwettalohia\n",
      "abhi_maity2\n",
      "anshula_binanshu\n",
      "supratik_0009\n",
      "arshhiya__\n",
      "ankitajgrover\n",
      "realsaadmallick\n",
      "monica_dewan04\n",
      "satwiiikaaa\n",
      "preeti_manchanda.11\n",
      "mansi_srivastava2709\n",
      "nupurchandan\n",
      "deepugupta2018\n",
      "nm0906\n",
      "umang__agrawal__\n",
      "arora6796\n",
      "deepika_bhardwaj_98\n",
      "thechocolateroom_malviyanagar\n",
      "subh_asish_sd\n",
      "mahi_saxena25\n",
      "aayush_choudhary_15\n",
      "nishu.jindal.731\n",
      "gurl_wid_curl_11\n",
      "jedi8148\n",
      "whokavya._\n",
      "trisha_310815\n",
      "salmath_nisa\n",
      "anandvarnika\n",
      "shreyaupadhyaya1506\n",
      "meehikaperiwal\n",
      "manavishere\n",
      "naughty_c.ookie\n",
      "mahi_t089\n",
      "prashant_._meena\n",
      "rahulbhatia._\n",
      "shrishti_pal23\n",
      "shambhaviii.shharma\n",
      "siyaagarwal25\n",
      "himasailaja29\n",
      "ehan2882\n",
      "sunderhanspal\n",
      "city_unbox28\n",
      "arpitawadhva161\n",
      "sachin.bhali\n",
      "grewalisha11\n",
      "dhingra.vishesh\n",
      "a_boy_addicted_to_music\n",
      "ur_pediatrician\n",
      "syedsinsta\n",
      "wewanttofocuson\n",
      "_.lakshita_._._\n",
      "hk__official_08\n",
      "meenal.mehra27\n",
      "vermashlu7042\n",
      "wadhwashilpa\n",
      "__ayushiii_\n",
      "jatin.vats1111\n",
      "_sun2806\n",
      "aforashwani\n",
      "vishal.singh.51\n",
      "anmol.sharma11\n",
      "sparshbaranwal\n",
      "tanz.onlyfrenz\n",
      "bhavikavij_1\n",
      "aaskhan8245\n",
      "_kittu__98_\n",
      "chahat3112\n",
      "meghnamanoj95\n",
      "_a.s.a.d__\n",
      "payaltanwar93\n",
      "ishasfoodgram\n",
      "neerajsharma_92\n",
      "nagar.in\n",
      "priyankapaul___\n",
      "hsuya_yugen\n",
      "pondering_12\n",
      "ravendrasingh7210\n",
      "imaakritisonawala\n",
      "no.its_aastha\n",
      "gaurav_thakur1210\n",
      "fattiger.surajmalvihar\n",
      "tushar___goyal\n",
      "walkoflife_exp11\n",
      "thriftsyness\n",
      "chinna81792\n",
      "mimansha_siingh\n",
      "_.vratiieee\n",
      "rishi_kanase_007\n",
      "__sushruuutaaa__\n",
      "poojaghai1607\n",
      "yogita.bhardwajj\n",
      "_aanviraj\n",
      "kxnika_\n",
      "shubh.as_it_is\n",
      "purav.sood\n",
      "theblissquotient\n",
      "shivammtandon\n",
      "riyanegiii\n",
      "bipin_c_kumar\n",
      "chaotic.mess.o_0\n",
      "sid_1871\n",
      "chaitanyaaasingh\n",
      "iam_kamrann\n",
      "nehaabhansali\n",
      "____krishna____\n",
      "nishant__n_k\n",
      "ymahak\n",
      "shalinee_shrivastava\n",
      "pfftriz_\n",
      "ritu.panwar_13\n",
      "iamvanshikajain\n",
      "ansh__bhalla\n",
      "the_fooder__rishi\n",
      "timsyarora25\n",
      "shashanksondhi\n",
      "raagini_7\n",
      "snehaverma._\n",
      "kam_sen_10\n",
      "jawaransari0101\n",
      "aditis_palette\n",
      "aekanshhhhh\n",
      "sanjeevani2507\n",
      "ro_hit.20\n",
      "arito_kuriko01\n",
      "mansii.bhardwaj\n",
      "sangeeta172singh\n",
      "adapting_ape\n",
      "anubhavchauhan27\n",
      "akshaysaini_23\n",
      "prateek23arora\n",
      "zestwayindia\n",
      "itschiku002\n",
      "shweta____taneja\n",
      "lamiyarajoria\n",
      "riyashi_khullar\n",
      "anshdixit03\n",
      "maaramaari\n",
      "etasha__a\n",
      "i.m.ayushiii\n",
      "bushybrows_jg\n",
      "nuzba_jawaid\n",
      "hops1.1\n",
      "im_._g\n",
      "alkajaiswal001\n",
      "rajni_1310\n",
      "___kajal____\n",
      "swati_khurana.artist\n",
      "vaishshettigar\n",
      "dishakhattar4\n",
      "karan_____55\n",
      "_vaibhavmunjal\n",
      "official_sheelkala\n",
      "sara13_hussain\n",
      "freezedriedcandyindia_popnoms\n",
      "gujjufarsan_snacks\n",
      "samiksha_fashion_by_sara\n",
      "baljeet.singh2893\n",
      "silinatirkey7_\n",
      "div_yasharma321\n",
      "tripti1008\n",
      "niachughh\n",
      "b.disha94\n",
      "rajnagpal1968\n",
      "the_mukesh11\n",
      "aryandmehta\n",
      "shaurya_x_singh\n",
      "radhamandal84\n",
      "ankita.law2011\n",
      "its_a.s._simple\n",
      "o_foodograph\n",
      "christine_5768\n",
      "sarthakk_258\n",
      "geetanshi_singla\n",
      "anishaggar\n",
      "swarupachowdaryp\n",
      "shweta_jha_\n",
      "luciefrenchlanguage\n",
      "fakehaibrother\n",
      "bookishritika\n",
      "arshpreet.bhatia\n",
      "_ayush.rastogi\n",
      "babatiwari43\n",
      "runaway._7\n",
      "heramb2305\n",
      "pankaj1977\n",
      "paras_saini_19\n",
      "pjbaluja\n",
      "kanika_berry\n",
      "bhardwaj_mansi__\n",
      "mr.pogonophile_\n",
      "mr.anuragshukla24\n",
      "dbrharyana\n",
      "yogitrathi\n",
      "1810_alan_krita\n",
      "janit_gupta\n",
      "saagxrika\n",
      "marwakassimcv\n",
      "kavyaaa.joshiii\n",
      "swati.jain1811\n",
      "am_priyanka___\n",
      "where2eat_spain\n",
      "manik_vij\n",
      "afsoon.basha\n",
      "i_am_shubhashree\n",
      "city_newz\n",
      "akshay.singh28\n",
      "nita.today\n",
      "sameeha.a__\n",
      "vikalp_02\n",
      "abu_huzaifa_ki_shayri\n",
      "jyotsnapvt\n",
      "itzsshhikkhhaaa\n",
      "sakshidabhade247\n",
      "vandana_jhaa\n",
      "ainee.ahsan\n",
      "stdio.jpg\n",
      "hamidfarooq__\n",
      "baadal_verma\n",
      "annoyinghaisab\n",
      "wcw_wolf\n",
      "pvt.ankittttt\n",
      "do.iknow___u\n",
      "mostly_sagacious\n",
      "sj_.1504\n",
      "the.exploreofficials\n",
      "swati.sinha\n",
      "sanyasharad146\n",
      "makeuprealbysaabi\n",
      "unapologetic_maverick\n",
      "_diksha1612_\n",
      "udeshhhh\n",
      "p_.4_.piyush\n",
      "harleen_kaur_johar\n",
      "_.shadow_.15\n",
      "shri.s.ti\n",
      "pooja.singh.4825\n",
      "chattyoutlined\n",
      "shikhajain_1996\n",
      "armanraj09\n",
      "soumya_malh_otra\n",
      "akshat.2809\n",
      "togoplaceshere\n",
      "payal_08642\n",
      "mr_abhishek3806\n",
      "harpreet_talwar97\n",
      "harshu_rana_dahaniya_\n",
      "saurabh0785\n",
      "gaganpreett__\n",
      "tanyasingh13\n",
      "see__u__guys\n",
      "_diya135_\n",
      "merieee.iss\n",
      "rishabhboy\n",
      "mickey_mnv\n",
      "_rana_aman\n",
      "khush_1103_\n",
      "astitva._singh\n",
      "kanakvijj\n",
      "heygarg.shreya\n",
      "8073farhan\n",
      "adityac29\n",
      "nish_sbm\n",
      "aditya_shikhar\n",
      "whoakshaygupta\n",
      "manu.__.jha\n",
      "_divaa_nagpal\n",
      "saini_shivesh\n",
      "shivaniver112\n",
      "02_user_not_found_02\n",
      "photoknitter08\n",
      "90skidbybrainandheart\n",
      "_sakshamsachdeva\n",
      "badal__thakur47000\n",
      "neha_dhingra07\n",
      "arbaaaaaaz\n",
      "barathjainn\n",
      "allboutsakshi\n",
      "twiinkkleeee\n",
      "khush_she__\n",
      "gsm_franklin\n",
      "vartika383\n",
      "shanti.baleja\n",
      "divyaasingh99\n",
      "priyadarshi.anvita\n",
      "moulichoudhary\n",
      "vsrrajput\n",
      "palakbhateja._\n",
      "aryanshhh__\n",
      "shubham_.10k\n",
      "drpulkit.arors1985\n",
      "theroshnisaini\n",
      "phoenixalam\n",
      "swayam141221\n",
      "yogawithmeera\n",
      "rashmikhankriyal\n",
      "prateekbirthare\n",
      "hacked202471\n",
      "ash.203\n",
      "yogesh_malik_01\n",
      "nasrinbanu911\n",
      "kaii.pvt\n",
      "dis_iz_tarun_\n",
      "the_royal_gaurav\n",
      "triptinsta29\n",
      "anand.tewari\n",
      "_brightestmorningglory\n",
      "gaurika_sharma.2004\n",
      "sowmyya_aa\n",
      "naitik_sinhaa_\n",
      "heyitsgullu\n",
      "harshitsoni_17\n",
      "shivanikarnatakam\n",
      "avii_2004__\n",
      "dreamer.a96\n",
      "jhali.patakha\n",
      "nickname12309\n",
      "alnishantsingh\n",
      "bengali.montu\n",
      "birdak470\n",
      "geetanjali2911\n",
      "shri_sti03\n",
      "mauliawasthi_08\n",
      "insymphonywitheternity\n",
      "sanskarsaxena026\n",
      "kakechawla\n",
      "tmkooo0088\n",
      "meenakshi_tyagi7\n",
      "deepakbabbar1984\n",
      "gopalshah_\n",
      "bhavneet_art\n",
      "bastet_artprojects\n",
      "jayash_agr\n",
      "shivvv_ani\n",
      "nisha_22singh\n",
      "jeet.teotia\n",
      "mughal__0786_\n",
      "pratapgrover\n",
      "deepa.bee\n",
      "shubham.sr4\n",
      "_ankit.ja8\n",
      "praveen_agg\n",
      "saurabhsk6087\n",
      "kareena__chauhan\n",
      "tanu.verma07_\n",
      "deluluaadu\n",
      "fittsterx\n",
      "whynot_diksha_\n",
      "ritikasaroha14\n",
      "aesthetickaran.official\n",
      "mayanbajaj98\n",
      "swetarathore657\n",
      "_darlingyouuu_\n",
      "official_preetyyadav\n",
      "nitika2511\n",
      "_.gunjanjain_\n",
      "thecastleblue\n",
      "thexplorer_19\n",
      "cuteness_doll_\n",
      "_nickandcarrie_\n",
      "_lostsoul__11\n",
      "nekoartist84\n",
      "aeroman2k\n",
      "narenderpal74\n",
      "sulabhgupta\n",
      "srishty2109\n",
      "official_yadav_nee2\n",
      "cool_girl_.3\n",
      "sajid__malik_.10\n",
      "kapz0_0\n",
      "narindervilkhu\n",
      "n_kakakhel\n",
      "priyanshuu071\n",
      "a.p.o.o.r.v.a_s.a.x.e.n.a\n",
      "eesha__0104\n",
      "camis_vtorres\n",
      "itzzsmruti\n"
     ]
    }
   ],
   "source": [
    "#sodelhi\n",
    "#this will take some time.\n",
    "f_list = extract_followers(\"sodelhi\")\n",
    "#print(len(f_list))\n",
    "for i in f_list[:500]:\n",
    "    print(i.text)\n",
    "driver.find_element(By.CLASS_NAME, '_abl-').click()"
   ]
  },
  {
   "cell_type": "code",
   "execution_count": 38,
   "id": "f616f91d",
   "metadata": {},
   "outputs": [
    {
     "name": "stdout",
     "output_type": "stream",
     "text": [
      "pitstop_trip\n",
      "moomaaya\n",
      "bonjourlearn1\n",
      "masoom_balak109\n",
      "sayed_1_dxb\n",
      "imabhishek90\n",
      "amankohli_7000\n",
      "royal_paswsn_ji_amir\n",
      "creationsbyamysavla\n",
      "rivendell778\n",
      "astrafulham\n",
      "beers_pints\n",
      "letsgocurlyhead\n",
      "akimoohb98\n",
      "belu__tik\n",
      "chuvike\n",
      "faujiclubhouse\n",
      "flavorspotug\n",
      "foodforyou___7\n",
      "foodie_friends_87\n",
      "ishasfoodgram\n",
      "jvojjala\n",
      "jeya.prakash.10004\n",
      "jdjimulia\n",
      "ankit_saha_official\n",
      "lenspective_\n",
      "infimenu\n",
      "prakriti_food_web\n",
      "rajk_rob\n",
      "rakshitjoshi_uk04\n",
      "rishi.obr\n",
      "rohanpandit0536\n",
      "617_mr_rohit\n",
      "mukherjee.sampriti\n",
      "samiyashakir\n",
      "sarcar676\n",
      "vasudevan_shankar\n",
      "shubh_ansh27\n",
      "issumit_jain\n",
      "swati.nagar\n",
      "tassu2255\n",
      "umarkashmani\n",
      "chef_vishalchandnani\n",
      "wahegurujiproperty\n",
      "yadav.singh.54738\n",
      "the.f.chef\n",
      "zhalli_creation\n",
      "abhi_1a\n",
      "zaxennn__01\n"
     ]
    }
   ],
   "source": [
    "#foodtalkindia\n",
    "#this will take some time.\n",
    "#they might have not allowed users to see all their followers, hence only 49 of them are visible.\n",
    "f_list_ftk = extract_followers(\"foodtalkindia\")\n",
    "f_list_name_ftk = []\n",
    "for i in f_list_ftk:\n",
    "    print(i.text)\n",
    "    f_list_name_ftk.append(i.text)\n",
    "driver.find_element(By.CLASS_NAME, '_abl-').click()"
   ]
  },
  {
   "cell_type": "code",
   "execution_count": 42,
   "id": "6ef09700",
   "metadata": {},
   "outputs": [
    {
     "name": "stdout",
     "output_type": "stream",
     "text": [
      "faujiclubhouse\n",
      "foodie_friends_87\n",
      "beers_pints\n",
      "imabhishek90\n"
     ]
    }
   ],
   "source": [
    "#printing all the followers of “foodtalkindia” that you follow but those who don’t follow you.\n",
    "driver.refresh()\n",
    "wait.until(EC.presence_of_element_located((By.XPATH, '//div[@class = \"x1iyjqo2 xh8yej3\"]/div[8]')))\n",
    "driver.find_element(By.XPATH, '//div[@class = \"x1iyjqo2 xh8yej3\"]/div[8]').click()\n",
    "time.sleep(3)\n",
    "my_profile = driver.find_element(By.CLASS_NAME, 'x1ms8i2q').text\n",
    "#print(my_profile)\n",
    "time.sleep(3)\n",
    "my_flist = extract_followers(my_profile)\n",
    "followers_uname = []\n",
    "following_uname = []\n",
    "for i in my_flist:\n",
    "    followers_uname.append(i.text)\n",
    "driver.find_element(By.CLASS_NAME, '_abl-').click()\n",
    "time.sleep(2)\n",
    "my_folist = extract_followers(my_profile, 1)\n",
    "for i in my_folist:\n",
    "    following_uname.append(i.text)\n",
    "driver.find_element(By.CLASS_NAME, '_abl-').click()\n",
    "time.sleep(2)\n",
    "followers_uname = set(followers_uname)\n",
    "following_uname = set(following_uname)\n",
    "name = following_uname-followers_uname\n",
    "for i in name:\n",
    "    if i in f_list_name_ftk:\n",
    "        print(i)"
   ]
  },
  {
   "cell_type": "markdown",
   "id": "d7cd91a7",
   "metadata": {},
   "source": [
    "### Checking stories\n",
    "Consider the following Scenarios and print error messages accordingly -\n",
    "If You have already seen the story.\n",
    "Or The user has no story.\n",
    "Or View the story if not yet seen."
   ]
  },
  {
   "cell_type": "code",
   "execution_count": 43,
   "id": "b62bab5c",
   "metadata": {},
   "outputs": [],
   "source": [
    "def check_story(profile):\n",
    "    try:\n",
    "        search_and_open(profile)\n",
    "        time.sleep(3)\n",
    "        story = driver.find_element(By.CLASS_NAME, \"_aarf\")\n",
    "        height = int(driver.find_element(By.CLASS_NAME, '_aarh').get_attribute('height'))\n",
    "        tab_index = int(story.get_attribute('tabindex'))\n",
    "        #print(height)\n",
    "        if (height==332):\n",
    "            print('You have already viewed the story.')\n",
    "        else:\n",
    "            if (tab_index==0):\n",
    "                story.click()\n",
    "                print('Viewing the story as it had not been seen.')\n",
    "            else:\n",
    "                print('User has no story.')\n",
    "              \n",
    "    except Exception as e:\n",
    "        print(e)"
   ]
  },
  {
   "cell_type": "code",
   "execution_count": 44,
   "id": "95bf4dcd",
   "metadata": {},
   "outputs": [
    {
     "name": "stdout",
     "output_type": "stream",
     "text": [
      "Viewing the story as it had not been seen.\n"
     ]
    }
   ],
   "source": [
    "check_story('codingninjas')"
   ]
  },
  {
   "cell_type": "markdown",
   "id": "653df119",
   "metadata": {},
   "source": [
    "### BLOGGER HABIT ANALYSIS\n",
    "1. From the list of instagram handles you obtained when you searched ‘food’ in previous project. Open the first 10 handles and find the top 5 which have the highest number of followers"
   ]
  },
  {
   "cell_type": "code",
   "execution_count": 20,
   "id": "db6051ec",
   "metadata": {},
   "outputs": [],
   "source": [
    "def top5_handles():\n",
    "\n",
    "    handles = ['foodtalkindia', 'food_lovers6103', 'food_affairs.sc', 'dilsefoodie', 'delhi_streets_food', \n",
    "               'food.darzee', 'foodbyswag', 'yourfoodlab', 'mumbaifoodie', 'foodon.snu']\n",
    "    di = {}\n",
    "    for i in handles:\n",
    "        search_and_open(i)\n",
    "        time.sleep(5)\n",
    "        wait.until(EC.presence_of_element_located((By.XPATH, '//ul[@class = \"x78zum5 x1q0g3np xieb3on\"]/li[2]')))\n",
    "        followers = driver.find_element(By.XPATH, '//ul[@class = \"x78zum5 x1q0g3np xieb3on\"]/li[2]').text.split()[0]\n",
    "        time.sleep(2)\n",
    "        if (followers[-1]=='K'):\n",
    "            followers = float(followers[:len(followers)-1])*1000\n",
    "        elif (followers[-1]=='M'):\n",
    "            followers = float(followers[:len(followers)-1])*1000000\n",
    "        else:\n",
    "            followers = float(followers.replace(',', ''))\n",
    "        #print(i, followers)\n",
    "        di[i] = followers\n",
    "        time.sleep(2)\n",
    "\n",
    "    res = OrderedDict()\n",
    "    count = 0\n",
    "    for i in sorted(di, key=di.get, reverse = True):\n",
    "        res[i] = di[i]\n",
    "        count+=1\n",
    "        if count>=5:\n",
    "            break\n",
    "\n",
    "    return res"
   ]
  },
  {
   "cell_type": "code",
   "execution_count": 21,
   "id": "8342a553",
   "metadata": {},
   "outputs": [
    {
     "name": "stdout",
     "output_type": "stream",
     "text": [
      "yourfoodlab -> 2700000.0\n",
      "dilsefoodie -> 1100000.0\n",
      "mumbaifoodie -> 752000.0\n",
      "foodtalkindia -> 310000.0\n",
      "food.darzee -> 226000.0\n"
     ]
    }
   ],
   "source": [
    "result = top5_handles()\n",
    "for i in result:\n",
    "    print(i, '->', result[i])"
   ]
  },
  {
   "cell_type": "markdown",
   "id": "b0dd4311",
   "metadata": {},
   "source": [
    "2. Now Find the number of posts these handles have done in the previous 3 days."
   ]
  },
  {
   "cell_type": "code",
   "execution_count": 22,
   "id": "7f9dc9a3",
   "metadata": {},
   "outputs": [],
   "source": [
    "def get_posts_count(result):\n",
    "    current_date = date.today().strftime(\"%d %B %Y\")\n",
    "    di = {}\n",
    "    for i in result:\n",
    "        search_and_open(i)\n",
    "        time.sleep(3)\n",
    "        driver.execute_script('window.scrollBy(0, 6000);')\n",
    "        time.sleep(3)\n",
    "        posts = driver.find_elements(By.CLASS_NAME, '_aagu')\n",
    "        count = 0\n",
    "        for j in range(len(posts)):\n",
    "            posts[j].click()\n",
    "            time.sleep(2)\n",
    "            wait.until(EC.presence_of_element_located((By.CLASS_NAME, '_aaqe')))\n",
    "            d = driver.find_element(By.CLASS_NAME, '_aaqe').get_attribute('title')\n",
    "            time.sleep(1)\n",
    "            driver.find_element(By.XPATH, '//div[@class = \"x160vmok x10l6tqk x1eu8d0j x1vjfegm\"]').click()\n",
    "            #print(current_date, d)\n",
    "            if (float(current_date[:2])-float(d[:2])<=3):\n",
    "                count+=1\n",
    "            else:\n",
    "                break\n",
    "        \n",
    "        di[i] = count\n",
    "    \n",
    "    return di"
   ]
  },
  {
   "cell_type": "code",
   "execution_count": 23,
   "id": "568a8294",
   "metadata": {},
   "outputs": [
    {
     "name": "stdout",
     "output_type": "stream",
     "text": [
      "yourfoodlab -> 1\n",
      "dilsefoodie -> 5\n",
      "mumbaifoodie -> 7\n",
      "foodtalkindia -> 1\n",
      "food.darzee -> 3\n"
     ]
    }
   ],
   "source": [
    "res_count = get_posts_count(result)\n",
    "for i in res_count:\n",
    "    print(i, '->', res_count[i])"
   ]
  },
  {
   "cell_type": "markdown",
   "id": "2642d99a",
   "metadata": {},
   "source": [
    "3. Depict this information using a suitable graph."
   ]
  },
  {
   "cell_type": "code",
   "execution_count": 24,
   "id": "84cd8e63",
   "metadata": {},
   "outputs": [],
   "source": [
    "followers = list(result.values())\n",
    "posts = list(res_count.values())\n",
    "handles = list(result.keys())"
   ]
  },
  {
   "cell_type": "code",
   "execution_count": 25,
   "id": "8bc77567",
   "metadata": {},
   "outputs": [
    {
     "data": {
      "image/png": "[encoded data removed]",
      "text/plain": [
       "<Figure size 640x480 with 1 Axes>"
      ]
     },
     "metadata": {},
     "output_type": "display_data"
    },
    {
     "data": {
      "image/png": "[encoded data removed]",
      "text/plain": [
       "<Figure size 640x480 with 1 Axes>"
      ]
     },
     "metadata": {},
     "output_type": "display_data"
    }
   ],
   "source": [
    "plt.plot(followers, posts, color = 'orange', linewidth = 3)\n",
    "plt.xlabel('followers')\n",
    "plt.ylabel('posts')\n",
    "plt.title('Posts in the last 3 days vs Followers')\n",
    "plt.grid()\n",
    "for i in range(len(followers)):\n",
    "    plt.text(followers[i], posts[i], (posts[i], followers[i]))\n",
    "plt.tight_layout()\n",
    "plt.show()\n",
    "\n",
    "plt.bar(handles, posts, color = 'g', alpha = 0.6)\n",
    "plt.ylabel(\"Number of posts in the previous 3 days\")\n",
    "plt.xlabel(\"Username\")\n",
    "plt.title('Most Followed user vs Number of recent posts ')\n",
    "plt.grid()\n",
    "plt.tight_layout()\n",
    "plt.xticks(rotation = 45)\n",
    "plt.show()"
   ]
  },
  {
   "cell_type": "markdown",
   "id": "9b292f38",
   "metadata": {},
   "source": [
    "### POPULAR HASHTAGS\n",
    "1. Open the 5 handles you obtained in the last question, and scrape the content of the first 10 posts of each handle."
   ]
  },
  {
   "cell_type": "code",
   "execution_count": 26,
   "id": "9749fcb5",
   "metadata": {},
   "outputs": [],
   "source": [
    "def get_hashtags():\n",
    "    hashtags = []\n",
    "    for i in result:\n",
    "        #print(i)\n",
    "        search_and_open(i)\n",
    "        time.sleep(3)\n",
    "        driver.execute_script('window.scrollBy(0, 6000);')\n",
    "        time.sleep(2)\n",
    "        wait.until(EC.presence_of_all_elements_located((By.CLASS_NAME, '_aagu')))\n",
    "        posts = driver.find_elements(By.CLASS_NAME, '_aagu')\n",
    "        for i in posts[:10]:\n",
    "            i.click()\n",
    "            time.sleep(2)\n",
    "            try:\n",
    "                #wait.until(EC.presence_of_all_elements_located((By.CLASS_NAME, '_aa9_')))\n",
    "                hashtags_each_post = driver.find_elements(By.CLASS_NAME, '_aa9_')\n",
    "            except:\n",
    "                driver.find_element(By.XPATH, '//div[@class = \"x160vmok x10l6tqk x1eu8d0j x1vjfegm\"]').click()\n",
    "                continue\n",
    "            time.sleep(1)\n",
    "            for i in hashtags_each_post:\n",
    "                hashtags.append(i.text)\n",
    "            driver.find_element(By.XPATH, '//div[@class = \"x160vmok x10l6tqk x1eu8d0j x1vjfegm\"]').click()\n",
    "            \n",
    "    return hashtags"
   ]
  },
  {
   "cell_type": "code",
   "execution_count": 27,
   "id": "9aa39fdd",
   "metadata": {},
   "outputs": [
    {
     "name": "stdout",
     "output_type": "stream",
     "text": [
      "['#RasMalai', '#IloveRasMalai', '#yflhome', '#yourfoodlab', '#sanjyotkeer', '#handmadeinindia', '#madeinindia', '#ecofriendlygifts', '#festivalgifts', '#giftsformom', '#festivalvibes', '#brasskitchen', '#sustainabledesign', '#kitchenwares', '#brassware', '#indianhomes', '#masala', '#masalabox', '#box', '#masalaboxes', '#brassmasalabox', '#dilsefoodie', '#food', '#krabi', '#thailand', '#alibabakrabi', '#dilsefoodie', '#food', '#pyaazkachori', '#streetfood', '#indianculture', '#dilsefoodie', '#food', '#moradabad', '#streetfood', '#dilsefoodie', '#food', '#seveneleven', '#drinks', '#thailand', '#dilsefoodie', '#shikanji', '#food', '#travel', '#dilsefoodie', '#food', '#roll', '#streetfood', '#dilsefoodie', '#food', '#resort', '#nainital', '#dilsefoodie', '#food', '#tikka', '#snacks', '#nonveg', '#dilsefoodie', '#food', '#Aonang', '#Krabi', '#Thailand', '#breakfast', '#dilsefoodie', '#food', '#maggi', '#streetfood', '#Mumbaifoodie', '#NDPatil', '#breakfast', '#FeedYourAddiction', '#letsfigrr', '#mumbaifoodie', '#fort', '#mumbai', '#vintage', '#bars', '#art', '#artgallery', '#iranibakery', '#MumbaiFoodie', '#CourtyardByMarriott', '#Mumbai', '#MumbaiFoodie', '#cacaobleu', '#MumbaiFoodie', '#SwiggyIndia', '#Ovenstory', '#mumbaiFoodie', '#magnoliabakery', '#magnolia', '#newyork', '#Boomburger', '#MumbaiFoodie', '#Mumbaifoodie', '#thebombaycartel', '#cocktails', '#MumbaiFoodie', '#Palaash', '#ChefAmninder', '#Tipeshwar', '#Nagpur', '#Stirred', '#ChampagneDay', '#SparklingWine', '#Prosecco', '#Bubbly', '#WorldChampagneDay', '#FoodAndChampagne', '#NewInTown', '#CaptainsCellarTajMahal', '#Wine', '#WineLover', '#WineClub', '#EpicureanExcellence', '#TajMahalNewDelhi', '#UnforgettableNights', '#RegionalDish', '#DelhiDiaries', '#DelhiEats', '#Yummy', '#Discover', '#BihariFood', '#IranianFood', '#ParsiFood', '#SouthIndianFood', '#AmritsariLassiWala', '#Lassi', '#Discover', '#OldDelhi', '#PuraniDilli', '#ChandniChowk', '#DelhiStreetFood', '#Delhi', '#DelhiEats', '#StreetFood', '#Drinks', '#DurgaPuja', '#Festive', '#PandalHoppingAdventures', '#FestiveJourney', '#healthymeals', '#weightloss', '#dietfood', '#deiting', '#weightlossjourney', '#ahealthydaywithfooddarzze', '#healthyfood', '#ketomeals', '#trending', '#topical', '#fooddarzee', '#BrownRiceWins', '#HealthyEating', '#healthyeating', '#nutrition', '#rich', '#yourhealthmatters', '#fooddarzee', '#coacheddarzee', '#TeamIndia', '#nomorejunkfood', '#healthyfood', '#meme', '#trending', '#trendingreels', '#funnyvideo', '#worldcup', '#cricketlovers', '#worldcup2023', '#viratkohli', '#fooddarzee', '#nonvegdiet', '#nonvegfood', '#dietplan', '#weightloss', '#ketodiet', '#weightlosstransformation', '#healthylifestyle', '#healthyfood', '#fooddarzee', '#coacheddarzee', '#heathyeating', '#navratri', '#navratrispecial', '#navratrispecial', '#funnymemes', '#meme', '#funnyvideo', '#trending', '#navratrispecial', '#fooddarzee', '#AlmondsForWeightLoss', '#PCOSManagement', '#HealthySnackIdeas', '#NutsForWellness', '#NuttyGoodness', '#SnackSmart', '#fooddarzee', '#pcos', '#pcosweightloss', '#pcosdiet', '#pcosawareness', '#fassai', '#consumercourtinindia', '#HealthyEating', '#WeightLossJourney', '#SpicyDelights', '#healthyfood', '#healthyrecipes', '#foodies', '#easysnack', '#tomatoes', '#rasamrecipe', '#healthysoup', '#weightlosstips', '#fooddarzee', '#healthyfood', '#diet', '#meme', '#foodmemes', '#burningcalories', '#healthylifestyle', '#trending', '#ketodiet', '#weightloss', '#fooddarzee', '#cake', '#healthycakes', '#desserts', '#ketodessert', '#sugarfree', '#chocolatecake', '#indiavsbangladesh', '#indvsban', '#icccricketworldcup', '#cricketlover', '#icccwc2023', '#trending', '#topicalspot', '#topical', '#fooddarzee', '#viratkohli']\n"
     ]
    }
   ],
   "source": [
    "hashtags = get_hashtags()\n",
    "print(hashtags)"
   ]
  },
  {
   "cell_type": "markdown",
   "id": "82a519ce",
   "metadata": {},
   "source": [
    "2. Prepare a list of all words used in all the scraped posts and calculate the frequency of each word."
   ]
  },
  {
   "cell_type": "code",
   "execution_count": 28,
   "id": "1397f8c7",
   "metadata": {},
   "outputs": [
    {
     "name": "stdout",
     "output_type": "stream",
     "text": [
      "{'#RasMalai': 1, '#IloveRasMalai': 1, '#yflhome': 1, '#yourfoodlab': 1, '#sanjyotkeer': 1, '#handmadeinindia': 1, '#madeinindia': 1, '#ecofriendlygifts': 1, '#festivalgifts': 1, '#giftsformom': 1, '#festivalvibes': 1, '#brasskitchen': 1, '#sustainabledesign': 1, '#kitchenwares': 1, '#brassware': 1, '#indianhomes': 1, '#masala': 1, '#masalabox': 1, '#box': 1, '#masalaboxes': 1, '#brassmasalabox': 1, '#dilsefoodie': 10, '#food': 10, '#krabi': 1, '#thailand': 2, '#alibabakrabi': 1, '#pyaazkachori': 1, '#streetfood': 4, '#indianculture': 1, '#moradabad': 1, '#seveneleven': 1, '#drinks': 1, '#shikanji': 1, '#travel': 1, '#roll': 1, '#resort': 1, '#nainital': 1, '#tikka': 1, '#snacks': 1, '#nonveg': 1, '#Aonang': 1, '#Krabi': 1, '#Thailand': 1, '#breakfast': 2, '#maggi': 1, '#Mumbaifoodie': 2, '#NDPatil': 1, '#FeedYourAddiction': 1, '#letsfigrr': 1, '#mumbaifoodie': 1, '#fort': 1, '#mumbai': 1, '#vintage': 1, '#bars': 1, '#art': 1, '#artgallery': 1, '#iranibakery': 1, '#MumbaiFoodie': 5, '#CourtyardByMarriott': 1, '#Mumbai': 1, '#cacaobleu': 1, '#SwiggyIndia': 1, '#Ovenstory': 1, '#mumbaiFoodie': 1, '#magnoliabakery': 1, '#magnolia': 1, '#newyork': 1, '#Boomburger': 1, '#thebombaycartel': 1, '#cocktails': 1, '#Palaash': 1, '#ChefAmninder': 1, '#Tipeshwar': 1, '#Nagpur': 1, '#Stirred': 1, '#ChampagneDay': 1, '#SparklingWine': 1, '#Prosecco': 1, '#Bubbly': 1, '#WorldChampagneDay': 1, '#FoodAndChampagne': 1, '#NewInTown': 1, '#CaptainsCellarTajMahal': 1, '#Wine': 1, '#WineLover': 1, '#WineClub': 1, '#EpicureanExcellence': 1, '#TajMahalNewDelhi': 1, '#UnforgettableNights': 1, '#RegionalDish': 1, '#DelhiDiaries': 1, '#DelhiEats': 2, '#Yummy': 1, '#Discover': 2, '#BihariFood': 1, '#IranianFood': 1, '#ParsiFood': 1, '#SouthIndianFood': 1, '#AmritsariLassiWala': 1, '#Lassi': 1, '#OldDelhi': 1, '#PuraniDilli': 1, '#ChandniChowk': 1, '#DelhiStreetFood': 1, '#Delhi': 1, '#StreetFood': 1, '#Drinks': 1, '#DurgaPuja': 1, '#Festive': 1, '#PandalHoppingAdventures': 1, '#FestiveJourney': 1, '#healthymeals': 1, '#weightloss': 3, '#dietfood': 1, '#deiting': 1, '#weightlossjourney': 1, '#ahealthydaywithfooddarzze': 1, '#healthyfood': 5, '#ketomeals': 1, '#trending': 5, '#topical': 2, '#fooddarzee': 9, '#BrownRiceWins': 1, '#HealthyEating': 2, '#healthyeating': 1, '#nutrition': 1, '#rich': 1, '#yourhealthmatters': 1, '#coacheddarzee': 2, '#TeamIndia': 1, '#nomorejunkfood': 1, '#meme': 3, '#trendingreels': 1, '#funnyvideo': 2, '#worldcup': 1, '#cricketlovers': 1, '#worldcup2023': 1, '#viratkohli': 2, '#nonvegdiet': 1, '#nonvegfood': 1, '#dietplan': 1, '#ketodiet': 2, '#weightlosstransformation': 1, '#healthylifestyle': 2, '#heathyeating': 1, '#navratri': 1, '#navratrispecial': 3, '#funnymemes': 1, '#AlmondsForWeightLoss': 1, '#PCOSManagement': 1, '#HealthySnackIdeas': 1, '#NutsForWellness': 1, '#NuttyGoodness': 1, '#SnackSmart': 1, '#pcos': 1, '#pcosweightloss': 1, '#pcosdiet': 1, '#pcosawareness': 1, '#fassai': 1, '#consumercourtinindia': 1, '#WeightLossJourney': 1, '#SpicyDelights': 1, '#healthyrecipes': 1, '#foodies': 1, '#easysnack': 1, '#tomatoes': 1, '#rasamrecipe': 1, '#healthysoup': 1, '#weightlosstips': 1, '#diet': 1, '#foodmemes': 1, '#burningcalories': 1, '#cake': 1, '#healthycakes': 1, '#desserts': 1, '#ketodessert': 1, '#sugarfree': 1, '#chocolatecake': 1, '#indiavsbangladesh': 1, '#indvsban': 1, '#icccricketworldcup': 1, '#cricketlover': 1, '#icccwc2023': 1, '#topicalspot': 1}\n"
     ]
    }
   ],
   "source": [
    "di_words = {}\n",
    "for i in hashtags:\n",
    "    di_words[i] = di_words.get(i, 0) + 1\n",
    "    \n",
    "print(di_words)"
   ]
  },
  {
   "cell_type": "markdown",
   "id": "8e74e387",
   "metadata": {},
   "source": [
    "3. Create a df file with two columns : the word and its frequency"
   ]
  },
  {
   "cell_type": "code",
   "execution_count": 29,
   "id": "2fdc1c92",
   "metadata": {},
   "outputs": [],
   "source": [
    "hashtag_list = []\n",
    "for i in di_words:\n",
    "    hashtag_list.append([i, di_words[i]])"
   ]
  },
  {
   "cell_type": "code",
   "execution_count": 30,
   "id": "d7a9fb10",
   "metadata": {},
   "outputs": [
    {
     "data": {
      "text/html": [
       "<div>\n",
       "<style scoped>\n",
       "    .dataframe tbody tr th:only-of-type {\n",
       "        vertical-align: middle;\n",
       "    }\n",
       "\n",
       "    .dataframe tbody tr th {\n",
       "        vertical-align: top;\n",
       "    }\n",
       "\n",
       "    .dataframe thead th {\n",
       "        text-align: right;\n",
       "    }\n",
       "</style>\n",
       "<table border=\"1\" class=\"dataframe\">\n",
       "  <thead>\n",
       "    <tr style=\"text-align: right;\">\n",
       "      <th></th>\n",
       "      <th>word</th>\n",
       "      <th>frequency</th>\n",
       "    </tr>\n",
       "  </thead>\n",
       "  <tbody>\n",
       "    <tr>\n",
       "      <th>0</th>\n",
       "      <td>#RasMalai</td>\n",
       "      <td>1</td>\n",
       "    </tr>\n",
       "    <tr>\n",
       "      <th>1</th>\n",
       "      <td>#IloveRasMalai</td>\n",
       "      <td>1</td>\n",
       "    </tr>\n",
       "    <tr>\n",
       "      <th>2</th>\n",
       "      <td>#yflhome</td>\n",
       "      <td>1</td>\n",
       "    </tr>\n",
       "    <tr>\n",
       "      <th>3</th>\n",
       "      <td>#yourfoodlab</td>\n",
       "      <td>1</td>\n",
       "    </tr>\n",
       "    <tr>\n",
       "      <th>4</th>\n",
       "      <td>#sanjyotkeer</td>\n",
       "      <td>1</td>\n",
       "    </tr>\n",
       "    <tr>\n",
       "      <th>5</th>\n",
       "      <td>#handmadeinindia</td>\n",
       "      <td>1</td>\n",
       "    </tr>\n",
       "    <tr>\n",
       "      <th>6</th>\n",
       "      <td>#madeinindia</td>\n",
       "      <td>1</td>\n",
       "    </tr>\n",
       "    <tr>\n",
       "      <th>7</th>\n",
       "      <td>#ecofriendlygifts</td>\n",
       "      <td>1</td>\n",
       "    </tr>\n",
       "  </tbody>\n",
       "</table>\n",
       "</div>"
      ],
      "text/plain": [
       "                word  frequency\n",
       "0          #RasMalai          1\n",
       "1     #IloveRasMalai          1\n",
       "2           #yflhome          1\n",
       "3       #yourfoodlab          1\n",
       "4       #sanjyotkeer          1\n",
       "5   #handmadeinindia          1\n",
       "6       #madeinindia          1\n",
       "7  #ecofriendlygifts          1"
      ]
     },
     "execution_count": 30,
     "metadata": {},
     "output_type": "execute_result"
    }
   ],
   "source": [
    "df = pd.DataFrame(hashtag_list, columns = ['word', 'frequency'])\n",
    "df.head(8)"
   ]
  },
  {
   "cell_type": "markdown",
   "id": "567d2f07",
   "metadata": {},
   "source": [
    "4. Now, find the hashtags that were most popular among these bloggers"
   ]
  },
  {
   "cell_type": "code",
   "execution_count": 31,
   "id": "06c9c066",
   "metadata": {},
   "outputs": [],
   "source": [
    "sorted_di = OrderedDict()\n",
    "hashtag_list_sorted = []\n",
    "for i in sorted(di_words, key=di_words.get, reverse = True):\n",
    "        sorted_di[i] = di_words[i]\n",
    "        hashtag_list_sorted.append([i, di_words[i]])"
   ]
  },
  {
   "cell_type": "code",
   "execution_count": 32,
   "id": "800dc699",
   "metadata": {},
   "outputs": [
    {
     "name": "stdout",
     "output_type": "stream",
     "text": [
      "#dilsefoodie 10\n",
      "#food 10\n",
      "#fooddarzee 9\n",
      "#MumbaiFoodie 5\n",
      "#healthyfood 5\n",
      "#trending 5\n",
      "#streetfood 4\n",
      "#weightloss 3\n",
      "#meme 3\n",
      "#navratrispecial 3\n"
     ]
    }
   ],
   "source": [
    "#here are the top 10 words\n",
    "count = 0\n",
    "for i in sorted_di:\n",
    "    print(i, sorted_di[i])\n",
    "    count+=1\n",
    "    if count==10:\n",
    "        break"
   ]
  },
  {
   "cell_type": "markdown",
   "id": "2c82c385",
   "metadata": {},
   "source": [
    "5. Plot a Pie Chart of the top 5 hashtags obtained and the number of times they were used by these bloggers in the scraped posts."
   ]
  },
  {
   "cell_type": "code",
   "execution_count": 33,
   "id": "ae93e6de",
   "metadata": {},
   "outputs": [],
   "source": [
    "words = [hashtag_list_sorted[i][0] for i in range(5)]\n",
    "freq = [hashtag_list_sorted[i][1] for i in range(5)]"
   ]
  },
  {
   "cell_type": "code",
   "execution_count": 34,
   "id": "34cde5e6",
   "metadata": {},
   "outputs": [
    {
     "data": {
      "image/png": "[encoded data removed]",
      "text/plain": [
       "<Figure size 640x480 with 1 Axes>"
      ]
     },
     "metadata": {},
     "output_type": "display_data"
    }
   ],
   "source": [
    "plt.pie(freq, labels = words, autopct = '%0.2f%%', startangle=45)\n",
    "plt.title('Top 5 hashtags used by bloggers')\n",
    "plt.show()"
   ]
  },
  {
   "cell_type": "markdown",
   "id": "818ec776",
   "metadata": {},
   "source": [
    "### AVERAGE FOLLOWERS : LIKES RATIO\n",
    "1. Find out the likes of the top 10 posts of the 5 handles obtained earlier."
   ]
  },
  {
   "cell_type": "code",
   "execution_count": 35,
   "id": "e50610ad",
   "metadata": {},
   "outputs": [],
   "source": [
    "def get_likes():\n",
    "    likes = []\n",
    "    for i in result:\n",
    "        likes_each_profile = []\n",
    "        search_and_open(i)\n",
    "        time.sleep(3)\n",
    "        driver.execute_script('window.scrollBy(0, 6000);')\n",
    "        time.sleep(2)\n",
    "        wait.until(EC.presence_of_all_elements_located((By.CLASS_NAME, '_aagu')))\n",
    "        posts = driver.find_elements(By.CLASS_NAME, '_aagu')\n",
    "        for i in posts[:10]:\n",
    "            i.click()\n",
    "            time.sleep(2)\n",
    "            likes_each_profile.append(float(driver.find_element(By.CLASS_NAME, '_ae5o').text.split()[0].replace(',', '')))\n",
    "            time.sleep(1)\n",
    "            #print(likes_each_profile)\n",
    "            driver.find_element(By.XPATH, '//div[@class = \"x160vmok x10l6tqk x1eu8d0j x1vjfegm\"]').click()\n",
    "        likes.append(likes_each_profile)\n",
    "        #print(likes)\n",
    "        \n",
    "    return likes"
   ]
  },
  {
   "cell_type": "code",
   "execution_count": 36,
   "id": "c6a29855",
   "metadata": {},
   "outputs": [
    {
     "name": "stdout",
     "output_type": "stream",
     "text": [
      "yourfoodlab -> [4505.0, 11771.0, 16258.0, 7596.0, 7601.0, 44011.0, 11929.0, 2320.0, 13926.0, 13232.0]\n",
      "dilsefoodie -> [2585.0, 9542.0, 5005.0, 8773.0, 2238.0, 6467.0, 892.0, 7250.0, 8660.0, 2715.0]\n",
      "mumbaifoodie -> [893.0, 3936.0, 3495.0, 606.0, 5303.0, 1908.0, 22198.0, 3669.0, 2002.0, 24520.0]\n",
      "foodtalkindia -> [512.0, 630.0, 5496.0, 53.0, 37.0, 49.0, 309.0, 63.0, 140.0, 278.0]\n",
      "food.darzee -> [389.0, 87.0, 80.0, 87.0, 92.0, 55.0, 226.0, 651.0, 178.0, 183.0]\n"
     ]
    }
   ],
   "source": [
    "likes = get_likes()\n",
    "for i in range(len(likes)):\n",
    "    print(handles[i], '->', likes[i])"
   ]
  },
  {
   "cell_type": "markdown",
   "id": "f14fd949",
   "metadata": {},
   "source": [
    "2. Calculate the average likes for a handle."
   ]
  },
  {
   "cell_type": "code",
   "execution_count": 37,
   "id": "2180249c",
   "metadata": {},
   "outputs": [],
   "source": [
    "di_likes = {}\n",
    "count = 0\n",
    "avg = 0\n",
    "avg_likes = []\n",
    "for i in result:\n",
    "    avg=sum(likes[count])/len(likes[count])\n",
    "    count+=1\n",
    "    avg_likes.append(avg)\n",
    "    di_likes[i] = avg"
   ]
  },
  {
   "cell_type": "code",
   "execution_count": 38,
   "id": "83922580",
   "metadata": {},
   "outputs": [
    {
     "data": {
      "text/plain": [
       "{'yourfoodlab': 13314.9,\n",
       " 'dilsefoodie': 5412.7,\n",
       " 'mumbaifoodie': 6853.0,\n",
       " 'foodtalkindia': 756.7,\n",
       " 'food.darzee': 202.8}"
      ]
     },
     "execution_count": 38,
     "metadata": {},
     "output_type": "execute_result"
    }
   ],
   "source": [
    "di_likes"
   ]
  },
  {
   "cell_type": "markdown",
   "id": "1998e8c5",
   "metadata": {},
   "source": [
    "3. Divide the average likes obtained from the number of followers of the handle to get the average followers:like ratio of each handle."
   ]
  },
  {
   "cell_type": "code",
   "execution_count": 39,
   "id": "4d07b9f1",
   "metadata": {},
   "outputs": [
    {
     "name": "stdout",
     "output_type": "stream",
     "text": [
      "Average followers:Like Ratio\n",
      "yourfoodlab 202.0\n",
      "dilsefoodie 203.0\n",
      "mumbaifoodie 109.0\n",
      "foodtalkindia 409.0\n",
      "food.darzee 1114.0\n"
     ]
    }
   ],
   "source": [
    "print(\"Average followers:Like Ratio\")\n",
    "for i in result:\n",
    "    print(i, result[i]//di_likes[i])"
   ]
  },
  {
   "cell_type": "markdown",
   "id": "b6030d65",
   "metadata": {},
   "source": [
    "4. Create a bar graph to depict the above obtained information."
   ]
  },
  {
   "cell_type": "code",
   "execution_count": 40,
   "id": "088c88b7",
   "metadata": {},
   "outputs": [
    {
     "data": {
      "image/png": "[encoded data removed]",
      "text/plain": [
       "<Figure size 640x480 with 1 Axes>"
      ]
     },
     "metadata": {},
     "output_type": "display_data"
    }
   ],
   "source": [
    "plt.bar(handles, avg_likes, color = 'g', alpha = 0.6)\n",
    "plt.ylabel(\"Avg likes in recent 10 posts\")\n",
    "plt.xlabel(\"Username\")\n",
    "plt.grid()\n",
    "plt.tight_layout()\n",
    "plt.xticks(rotation = 45)\n",
    "for i in range(len(handles)):\n",
    "    plt.text(i-0.20, avg_likes[i], avg_likes[i])\n",
    "plt.show()"
   ]
  },
  {
   "cell_type": "markdown",
   "id": "1b28ff29",
   "metadata": {},
   "source": [
    "                                                                            submitted by Yagay Khatri"
   ]
  },
  {
   "cell_type": "markdown",
   "id": "afcd644f",
   "metadata": {},
   "source": [
    "<hr>"
   ]
  }
 ],
 "metadata": {
  "kernelspec": {
   "display_name": "Python 3 (ipykernel)",
   "language": "python",
   "name": "python3"
  },
  "language_info": {
   "codemirror_mode": {
    "name": "ipython",
    "version": 3
   },
   "file_extension": ".py",
   "mimetype": "text/x-python",
   "name": "python",
   "nbconvert_exporter": "python",
   "pygments_lexer": "ipython3",
   "version": "3.10.11"
  }
 },
 "nbformat": 4,
 "nbformat_minor": 5
}
